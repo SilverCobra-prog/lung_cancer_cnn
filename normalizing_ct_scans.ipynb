{
 "cells": [
  {
   "cell_type": "code",
   "execution_count": null,
   "id": "907fa9f0",
   "metadata": {},
   "outputs": [],
   "source": [
    "from PIL import Image\n",
    "import os"
   ]
  },
  {
   "cell_type": "code",
   "execution_count": null,
   "id": "1002903e",
   "metadata": {},
   "outputs": [],
   "source": [
    "def resize_images(directory_path, target_size):\n",
    "    for filename in os.listdir(directory_path):\n",
    "        if filename.endswith('.jpg') or filename.endswith('.png'):\n",
    "            image_path = os.path.join(directory_path, filename)\n",
    "            image = Image.open(image_path)\n",
    "            resized_image = image.resize(target_size)\n",
    "            resized_image.save(image_path)\n",
    "\n",
    "directory_path = 'ct_scans/'\n",
    "\n",
    "target_size = (224, 224)\n",
    "\n",
    "resize_images(directory_path, target_size)"
   ]
  }
 ],
 "metadata": {
  "kernelspec": {
   "display_name": "Python 3 (ipykernel)",
   "language": "python",
   "name": "python3"
  },
  "language_info": {
   "codemirror_mode": {
    "name": "ipython",
    "version": 3
   },
   "file_extension": ".py",
   "mimetype": "text/x-python",
   "name": "python",
   "nbconvert_exporter": "python",
   "pygments_lexer": "ipython3",
   "version": "3.9.12"
  }
 },
 "nbformat": 4,
 "nbformat_minor": 5
}
